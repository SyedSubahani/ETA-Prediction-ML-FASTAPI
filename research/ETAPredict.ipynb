{
 "cells": [
  {
   "cell_type": "code",
   "execution_count": 81,
   "metadata": {},
   "outputs": [],
   "source": [
    "import numpy as np\n",
    "import pandas as pd\n",
    "import matplotlib.pyplot as plt\n",
    "import seaborn as sns\n",
    "\n",
    "import pprint\n",
    "import warnings\n",
    "import pickle\n",
    "\n",
    "warnings.filterwarnings(\"ignore\")\n",
    "pd.set_option(\"display.max_columns\", None)"
   ]
  },
  {
   "cell_type": "code",
   "execution_count": 73,
   "metadata": {},
   "outputs": [],
   "source": [
    "from statsmodels.tsa.stattools import kpss\n",
    "from statsmodels.tsa.stattools import adfuller\n",
    "\n",
    "from sklearn.impute import SimpleImputer\n",
    "from sklearn.preprocessing import OneHotEncoder, LabelEncoder, StandardScaler\n",
    "#from category_encoders.binary import BinaryEncoder\n",
    "\n",
    "from sklearn.ensemble import RandomForestRegressor\n",
    "import xgboost as xgb\n",
    "from sklearn.metrics import mean_squared_error, mean_squared_log_error\n"
   ]
  },
  {
   "cell_type": "code",
   "execution_count": 28,
   "metadata": {},
   "outputs": [],
   "source": [
    "# split datetime column into date and time\n",
    "def split_datetime_column(df, date):\n",
    "    df['time'] = df[date].str[10:]\n",
    "    df['date'] = df[date].str[:10]\n",
    "    df.drop(columns=['Timestamp'], inplace = True, axis=1)\n",
    "    return df\n",
    "\n",
    "#Convert Time to Sec\n",
    "def time_to_secs(df):\n",
    "  # Extract hours, minutes, and seconds using vectorized operations\n",
    "  time_parts = df['time'].str[1:-1].str.split(':', expand=True).astype(int)\n",
    "  hours, minutes, seconds = time_parts[0], time_parts[1], time_parts[2]\n",
    "  df.drop(columns=['time'], inplace = True, axis=1)\n",
    "\n",
    "  # Convert time to total seconds since midnight\n",
    "  df['total_secs'] = hours * 3600 + minutes * 60 + seconds\n",
    "\n",
    "# create a function to check for missing extracted dates\n",
    "def get_missing_dates(df):\n",
    "  col = df.index\n",
    "  missing_dates = (pd.date_range(\n",
    "\n",
    "      start=col.min(), #start date\n",
    "      end=col.max())   #end_date\n",
    "      .difference(col))\n",
    "  print(f\"we have {len(missing_dates)} dates missing out of {len(col)}\")\n",
    "  print(f\"start: {col.min()}, end: {col.max()}\")\n",
    "  return missing_dates\n",
    "\n",
    "# Fill missing values\n",
    "def fill_missing_dates(df):\n",
    "  missing_dates = (pd.DataFrame(\n",
    "      pd.date_range(\n",
    "        start=df.index.min(), end=df.index.max())\n",
    "        .difference(df.index)\n",
    "  , columns=['date']))\n",
    "\n",
    "#add missing df dates\n",
    "  df = pd.concat([df, missing_dates], ignore_index=True)\n",
    "\n",
    "  #filling missing df values\n",
    "  cols = df.columns\n",
    "  for col in cols:\n",
    "    df[col] = df[col].ffill().bfill()\n",
    "  return df\n",
    "\n"
   ]
  },
  {
   "cell_type": "markdown",
   "metadata": {},
   "source": [
    "### Load Source Data"
   ]
  },
  {
   "cell_type": "code",
   "execution_count": 3,
   "metadata": {},
   "outputs": [],
   "source": [
    "train = pd.read_csv(\"../data/Train.csv\")\n",
    "test = pd.read_csv(\"../data/Test.csv\")\n",
    "weather = pd.read_csv(\"../data/Weather.csv\")\n",
    "\n",
    "df_train = train.copy()\n",
    "df_test = test.copy()\n",
    "df_weather = weather.copy()"
   ]
  },
  {
   "cell_type": "code",
   "execution_count": 4,
   "metadata": {},
   "outputs": [
    {
     "name": "stdout",
     "output_type": "stream",
     "text": [
      "Train Shapre: (83924, 8)\n",
      "Test Shapre: (35625, 7)\n",
      "Weather Shapre: (61, 10)\n"
     ]
    }
   ],
   "source": [
    "print(\"Train Shapre:\", df_train.shape)\n",
    "print(\"Test Shapre:\", df_test.shape)\n",
    "print(\"Weather Shapre:\", df_weather.shape)"
   ]
  },
  {
   "cell_type": "code",
   "execution_count": 5,
   "metadata": {},
   "outputs": [
    {
     "data": {
      "text/html": [
       "<div>\n",
       "<style scoped>\n",
       "    .dataframe tbody tr th:only-of-type {\n",
       "        vertical-align: middle;\n",
       "    }\n",
       "\n",
       "    .dataframe tbody tr th {\n",
       "        vertical-align: top;\n",
       "    }\n",
       "\n",
       "    .dataframe thead th {\n",
       "        text-align: right;\n",
       "    }\n",
       "</style>\n",
       "<table border=\"1\" class=\"dataframe\">\n",
       "  <thead>\n",
       "    <tr style=\"text-align: right;\">\n",
       "      <th></th>\n",
       "      <th>ID</th>\n",
       "      <th>Timestamp</th>\n",
       "      <th>Origin_lat</th>\n",
       "      <th>Origin_lon</th>\n",
       "      <th>Destination_lat</th>\n",
       "      <th>Destination_lon</th>\n",
       "      <th>Trip_distance</th>\n",
       "      <th>ETA</th>\n",
       "    </tr>\n",
       "  </thead>\n",
       "  <tbody>\n",
       "    <tr>\n",
       "      <th>0</th>\n",
       "      <td>000FLWA8</td>\n",
       "      <td>2019-12-04T20:01:50Z</td>\n",
       "      <td>3.258</td>\n",
       "      <td>36.777</td>\n",
       "      <td>3.003</td>\n",
       "      <td>36.718</td>\n",
       "      <td>39627</td>\n",
       "      <td>2784</td>\n",
       "    </tr>\n",
       "    <tr>\n",
       "      <th>1</th>\n",
       "      <td>000RGOAM</td>\n",
       "      <td>2019-12-10T22:37:09Z</td>\n",
       "      <td>3.087</td>\n",
       "      <td>36.707</td>\n",
       "      <td>3.081</td>\n",
       "      <td>36.727</td>\n",
       "      <td>3918</td>\n",
       "      <td>576</td>\n",
       "    </tr>\n",
       "    <tr>\n",
       "      <th>2</th>\n",
       "      <td>001QSGIH</td>\n",
       "      <td>2019-11-23T20:36:10Z</td>\n",
       "      <td>3.144</td>\n",
       "      <td>36.739</td>\n",
       "      <td>3.088</td>\n",
       "      <td>36.742</td>\n",
       "      <td>7265</td>\n",
       "      <td>526</td>\n",
       "    </tr>\n",
       "    <tr>\n",
       "      <th>3</th>\n",
       "      <td>002ACV6R</td>\n",
       "      <td>2019-12-01T05:43:21Z</td>\n",
       "      <td>3.239</td>\n",
       "      <td>36.784</td>\n",
       "      <td>3.054</td>\n",
       "      <td>36.763</td>\n",
       "      <td>23350</td>\n",
       "      <td>3130</td>\n",
       "    </tr>\n",
       "    <tr>\n",
       "      <th>4</th>\n",
       "      <td>0039Y7A8</td>\n",
       "      <td>2019-12-17T20:30:20Z</td>\n",
       "      <td>2.912</td>\n",
       "      <td>36.707</td>\n",
       "      <td>3.207</td>\n",
       "      <td>36.698</td>\n",
       "      <td>36613</td>\n",
       "      <td>2138</td>\n",
       "    </tr>\n",
       "  </tbody>\n",
       "</table>\n",
       "</div>"
      ],
      "text/plain": [
       "         ID             Timestamp  Origin_lat  Origin_lon  Destination_lat  \\\n",
       "0  000FLWA8  2019-12-04T20:01:50Z       3.258      36.777            3.003   \n",
       "1  000RGOAM  2019-12-10T22:37:09Z       3.087      36.707            3.081   \n",
       "2  001QSGIH  2019-11-23T20:36:10Z       3.144      36.739            3.088   \n",
       "3  002ACV6R  2019-12-01T05:43:21Z       3.239      36.784            3.054   \n",
       "4  0039Y7A8  2019-12-17T20:30:20Z       2.912      36.707            3.207   \n",
       "\n",
       "   Destination_lon  Trip_distance   ETA  \n",
       "0           36.718          39627  2784  \n",
       "1           36.727           3918   576  \n",
       "2           36.742           7265   526  \n",
       "3           36.763          23350  3130  \n",
       "4           36.698          36613  2138  "
      ]
     },
     "execution_count": 5,
     "metadata": {},
     "output_type": "execute_result"
    }
   ],
   "source": [
    "df_train.head()"
   ]
  },
  {
   "cell_type": "code",
   "execution_count": 6,
   "metadata": {},
   "outputs": [
    {
     "data": {
      "text/html": [
       "<div>\n",
       "<style scoped>\n",
       "    .dataframe tbody tr th:only-of-type {\n",
       "        vertical-align: middle;\n",
       "    }\n",
       "\n",
       "    .dataframe tbody tr th {\n",
       "        vertical-align: top;\n",
       "    }\n",
       "\n",
       "    .dataframe thead th {\n",
       "        text-align: right;\n",
       "    }\n",
       "</style>\n",
       "<table border=\"1\" class=\"dataframe\">\n",
       "  <thead>\n",
       "    <tr style=\"text-align: right;\">\n",
       "      <th></th>\n",
       "      <th>ID</th>\n",
       "      <th>Timestamp</th>\n",
       "      <th>Origin_lat</th>\n",
       "      <th>Origin_lon</th>\n",
       "      <th>Destination_lat</th>\n",
       "      <th>Destination_lon</th>\n",
       "      <th>Trip_distance</th>\n",
       "    </tr>\n",
       "  </thead>\n",
       "  <tbody>\n",
       "    <tr>\n",
       "      <th>0</th>\n",
       "      <td>000V4BQX</td>\n",
       "      <td>2019-12-21T05:52:37Z</td>\n",
       "      <td>2.981</td>\n",
       "      <td>36.688</td>\n",
       "      <td>2.978</td>\n",
       "      <td>36.754</td>\n",
       "      <td>17549</td>\n",
       "    </tr>\n",
       "    <tr>\n",
       "      <th>1</th>\n",
       "      <td>003WBC5J</td>\n",
       "      <td>2019-12-25T21:38:53Z</td>\n",
       "      <td>3.032</td>\n",
       "      <td>36.769</td>\n",
       "      <td>3.074</td>\n",
       "      <td>36.751</td>\n",
       "      <td>7532</td>\n",
       "    </tr>\n",
       "    <tr>\n",
       "      <th>2</th>\n",
       "      <td>004O4X3A</td>\n",
       "      <td>2019-12-29T21:30:29Z</td>\n",
       "      <td>3.035</td>\n",
       "      <td>36.711</td>\n",
       "      <td>3.010</td>\n",
       "      <td>36.758</td>\n",
       "      <td>10194</td>\n",
       "    </tr>\n",
       "    <tr>\n",
       "      <th>3</th>\n",
       "      <td>006CEI5B</td>\n",
       "      <td>2019-12-31T22:51:57Z</td>\n",
       "      <td>2.902</td>\n",
       "      <td>36.738</td>\n",
       "      <td>3.208</td>\n",
       "      <td>36.698</td>\n",
       "      <td>32768</td>\n",
       "    </tr>\n",
       "    <tr>\n",
       "      <th>4</th>\n",
       "      <td>009G0M2T</td>\n",
       "      <td>2019-12-28T21:47:22Z</td>\n",
       "      <td>2.860</td>\n",
       "      <td>36.692</td>\n",
       "      <td>2.828</td>\n",
       "      <td>36.696</td>\n",
       "      <td>4513</td>\n",
       "    </tr>\n",
       "  </tbody>\n",
       "</table>\n",
       "</div>"
      ],
      "text/plain": [
       "         ID             Timestamp  Origin_lat  Origin_lon  Destination_lat  \\\n",
       "0  000V4BQX  2019-12-21T05:52:37Z       2.981      36.688            2.978   \n",
       "1  003WBC5J  2019-12-25T21:38:53Z       3.032      36.769            3.074   \n",
       "2  004O4X3A  2019-12-29T21:30:29Z       3.035      36.711            3.010   \n",
       "3  006CEI5B  2019-12-31T22:51:57Z       2.902      36.738            3.208   \n",
       "4  009G0M2T  2019-12-28T21:47:22Z       2.860      36.692            2.828   \n",
       "\n",
       "   Destination_lon  Trip_distance  \n",
       "0           36.754          17549  \n",
       "1           36.751           7532  \n",
       "2           36.758          10194  \n",
       "3           36.698          32768  \n",
       "4           36.696           4513  "
      ]
     },
     "execution_count": 6,
     "metadata": {},
     "output_type": "execute_result"
    }
   ],
   "source": [
    "df_test.head()"
   ]
  },
  {
   "cell_type": "code",
   "execution_count": 7,
   "metadata": {},
   "outputs": [
    {
     "data": {
      "text/html": [
       "<div>\n",
       "<style scoped>\n",
       "    .dataframe tbody tr th:only-of-type {\n",
       "        vertical-align: middle;\n",
       "    }\n",
       "\n",
       "    .dataframe tbody tr th {\n",
       "        vertical-align: top;\n",
       "    }\n",
       "\n",
       "    .dataframe thead th {\n",
       "        text-align: right;\n",
       "    }\n",
       "</style>\n",
       "<table border=\"1\" class=\"dataframe\">\n",
       "  <thead>\n",
       "    <tr style=\"text-align: right;\">\n",
       "      <th></th>\n",
       "      <th>date</th>\n",
       "      <th>dewpoint_2m_temperature</th>\n",
       "      <th>maximum_2m_air_temperature</th>\n",
       "      <th>mean_2m_air_temperature</th>\n",
       "      <th>mean_sea_level_pressure</th>\n",
       "      <th>minimum_2m_air_temperature</th>\n",
       "      <th>surface_pressure</th>\n",
       "      <th>total_precipitation</th>\n",
       "      <th>u_component_of_wind_10m</th>\n",
       "      <th>v_component_of_wind_10m</th>\n",
       "    </tr>\n",
       "  </thead>\n",
       "  <tbody>\n",
       "    <tr>\n",
       "      <th>0</th>\n",
       "      <td>2019-11-01</td>\n",
       "      <td>290.630524</td>\n",
       "      <td>296.434662</td>\n",
       "      <td>294.125061</td>\n",
       "      <td>101853.617188</td>\n",
       "      <td>292.503998</td>\n",
       "      <td>100806.351562</td>\n",
       "      <td>0.004297</td>\n",
       "      <td>3.561323</td>\n",
       "      <td>0.941695</td>\n",
       "    </tr>\n",
       "    <tr>\n",
       "      <th>1</th>\n",
       "      <td>2019-11-02</td>\n",
       "      <td>289.135284</td>\n",
       "      <td>298.432404</td>\n",
       "      <td>295.551666</td>\n",
       "      <td>101225.164062</td>\n",
       "      <td>293.337921</td>\n",
       "      <td>100187.250000</td>\n",
       "      <td>0.001767</td>\n",
       "      <td>5.318593</td>\n",
       "      <td>3.258237</td>\n",
       "    </tr>\n",
       "    <tr>\n",
       "      <th>2</th>\n",
       "      <td>2019-11-03</td>\n",
       "      <td>287.667694</td>\n",
       "      <td>296.612122</td>\n",
       "      <td>295.182831</td>\n",
       "      <td>100806.617188</td>\n",
       "      <td>293.674316</td>\n",
       "      <td>99771.414062</td>\n",
       "      <td>0.000797</td>\n",
       "      <td>8.447649</td>\n",
       "      <td>3.172982</td>\n",
       "    </tr>\n",
       "    <tr>\n",
       "      <th>3</th>\n",
       "      <td>2019-11-04</td>\n",
       "      <td>287.634644</td>\n",
       "      <td>297.173737</td>\n",
       "      <td>294.368134</td>\n",
       "      <td>101240.929688</td>\n",
       "      <td>292.376221</td>\n",
       "      <td>100200.843750</td>\n",
       "      <td>0.000393</td>\n",
       "      <td>5.991428</td>\n",
       "      <td>2.236700</td>\n",
       "    </tr>\n",
       "    <tr>\n",
       "      <th>4</th>\n",
       "      <td>2019-11-05</td>\n",
       "      <td>286.413788</td>\n",
       "      <td>294.284851</td>\n",
       "      <td>292.496979</td>\n",
       "      <td>101131.750000</td>\n",
       "      <td>289.143066</td>\n",
       "      <td>100088.500000</td>\n",
       "      <td>0.004658</td>\n",
       "      <td>6.962730</td>\n",
       "      <td>2.655364</td>\n",
       "    </tr>\n",
       "  </tbody>\n",
       "</table>\n",
       "</div>"
      ],
      "text/plain": [
       "         date  dewpoint_2m_temperature  maximum_2m_air_temperature  \\\n",
       "0  2019-11-01               290.630524                  296.434662   \n",
       "1  2019-11-02               289.135284                  298.432404   \n",
       "2  2019-11-03               287.667694                  296.612122   \n",
       "3  2019-11-04               287.634644                  297.173737   \n",
       "4  2019-11-05               286.413788                  294.284851   \n",
       "\n",
       "   mean_2m_air_temperature  mean_sea_level_pressure  \\\n",
       "0               294.125061            101853.617188   \n",
       "1               295.551666            101225.164062   \n",
       "2               295.182831            100806.617188   \n",
       "3               294.368134            101240.929688   \n",
       "4               292.496979            101131.750000   \n",
       "\n",
       "   minimum_2m_air_temperature  surface_pressure  total_precipitation  \\\n",
       "0                  292.503998     100806.351562             0.004297   \n",
       "1                  293.337921     100187.250000             0.001767   \n",
       "2                  293.674316      99771.414062             0.000797   \n",
       "3                  292.376221     100200.843750             0.000393   \n",
       "4                  289.143066     100088.500000             0.004658   \n",
       "\n",
       "   u_component_of_wind_10m  v_component_of_wind_10m  \n",
       "0                 3.561323                 0.941695  \n",
       "1                 5.318593                 3.258237  \n",
       "2                 8.447649                 3.172982  \n",
       "3                 5.991428                 2.236700  \n",
       "4                 6.962730                 2.655364  "
      ]
     },
     "execution_count": 7,
     "metadata": {},
     "output_type": "execute_result"
    }
   ],
   "source": [
    "df_weather.head()"
   ]
  },
  {
   "cell_type": "code",
   "execution_count": 8,
   "metadata": {},
   "outputs": [],
   "source": [
    "# Drop Id columns from Train and Test datasets\n",
    "df_train.drop(columns=['ID'], inplace = True, axis=1)\n",
    "df_test.drop(columns=['ID'], inplace = True, axis=1)"
   ]
  },
  {
   "cell_type": "markdown",
   "metadata": {},
   "source": [
    "### Basic Data Exploration"
   ]
  },
  {
   "cell_type": "code",
   "execution_count": 9,
   "metadata": {},
   "outputs": [
    {
     "name": "stdout",
     "output_type": "stream",
     "text": [
      "<class 'pandas.core.frame.DataFrame'>\n",
      "RangeIndex: 83924 entries, 0 to 83923\n",
      "Data columns (total 7 columns):\n",
      " #   Column           Non-Null Count  Dtype  \n",
      "---  ------           --------------  -----  \n",
      " 0   Timestamp        83924 non-null  object \n",
      " 1   Origin_lat       83924 non-null  float64\n",
      " 2   Origin_lon       83924 non-null  float64\n",
      " 3   Destination_lat  83924 non-null  float64\n",
      " 4   Destination_lon  83924 non-null  float64\n",
      " 5   Trip_distance    83924 non-null  int64  \n",
      " 6   ETA              83924 non-null  int64  \n",
      "dtypes: float64(4), int64(2), object(1)\n",
      "memory usage: 4.5+ MB\n"
     ]
    }
   ],
   "source": [
    "df_train.info()"
   ]
  },
  {
   "cell_type": "code",
   "execution_count": 10,
   "metadata": {},
   "outputs": [
    {
     "name": "stdout",
     "output_type": "stream",
     "text": [
      "<class 'pandas.core.frame.DataFrame'>\n",
      "RangeIndex: 35625 entries, 0 to 35624\n",
      "Data columns (total 6 columns):\n",
      " #   Column           Non-Null Count  Dtype  \n",
      "---  ------           --------------  -----  \n",
      " 0   Timestamp        35625 non-null  object \n",
      " 1   Origin_lat       35625 non-null  float64\n",
      " 2   Origin_lon       35625 non-null  float64\n",
      " 3   Destination_lat  35625 non-null  float64\n",
      " 4   Destination_lon  35625 non-null  float64\n",
      " 5   Trip_distance    35625 non-null  int64  \n",
      "dtypes: float64(4), int64(1), object(1)\n",
      "memory usage: 1.6+ MB\n"
     ]
    }
   ],
   "source": [
    "df_test.info()"
   ]
  },
  {
   "cell_type": "code",
   "execution_count": 11,
   "metadata": {},
   "outputs": [
    {
     "name": "stdout",
     "output_type": "stream",
     "text": [
      "<class 'pandas.core.frame.DataFrame'>\n",
      "RangeIndex: 61 entries, 0 to 60\n",
      "Data columns (total 10 columns):\n",
      " #   Column                      Non-Null Count  Dtype  \n",
      "---  ------                      --------------  -----  \n",
      " 0   date                        61 non-null     object \n",
      " 1   dewpoint_2m_temperature     61 non-null     float64\n",
      " 2   maximum_2m_air_temperature  61 non-null     float64\n",
      " 3   mean_2m_air_temperature     61 non-null     float64\n",
      " 4   mean_sea_level_pressure     61 non-null     float64\n",
      " 5   minimum_2m_air_temperature  61 non-null     float64\n",
      " 6   surface_pressure            61 non-null     float64\n",
      " 7   total_precipitation         61 non-null     float64\n",
      " 8   u_component_of_wind_10m     61 non-null     float64\n",
      " 9   v_component_of_wind_10m     61 non-null     float64\n",
      "dtypes: float64(9), object(1)\n",
      "memory usage: 4.9+ KB\n"
     ]
    }
   ],
   "source": [
    "df_weather.info()"
   ]
  },
  {
   "cell_type": "code",
   "execution_count": 12,
   "metadata": {},
   "outputs": [
    {
     "data": {
      "text/html": [
       "<div>\n",
       "<style scoped>\n",
       "    .dataframe tbody tr th:only-of-type {\n",
       "        vertical-align: middle;\n",
       "    }\n",
       "\n",
       "    .dataframe tbody tr th {\n",
       "        vertical-align: top;\n",
       "    }\n",
       "\n",
       "    .dataframe thead th {\n",
       "        text-align: right;\n",
       "    }\n",
       "</style>\n",
       "<table border=\"1\" class=\"dataframe\">\n",
       "  <thead>\n",
       "    <tr style=\"text-align: right;\">\n",
       "      <th></th>\n",
       "      <th>Timestamp</th>\n",
       "      <th>Origin_lat</th>\n",
       "      <th>Origin_lon</th>\n",
       "      <th>Destination_lat</th>\n",
       "      <th>Destination_lon</th>\n",
       "      <th>Trip_distance</th>\n",
       "      <th>ETA</th>\n",
       "    </tr>\n",
       "  </thead>\n",
       "  <tbody>\n",
       "    <tr>\n",
       "      <th>72164</th>\n",
       "      <td>2019-11-19T23:00:08Z</td>\n",
       "      <td>3.021</td>\n",
       "      <td>36.751</td>\n",
       "      <td>3.031</td>\n",
       "      <td>36.769</td>\n",
       "      <td>3898</td>\n",
       "      <td>556</td>\n",
       "    </tr>\n",
       "    <tr>\n",
       "      <th>23738</th>\n",
       "      <td>2019-11-19T23:00:10Z</td>\n",
       "      <td>2.972</td>\n",
       "      <td>36.760</td>\n",
       "      <td>3.006</td>\n",
       "      <td>36.728</td>\n",
       "      <td>5861</td>\n",
       "      <td>785</td>\n",
       "    </tr>\n",
       "  </tbody>\n",
       "</table>\n",
       "</div>"
      ],
      "text/plain": [
       "                  Timestamp  Origin_lat  Origin_lon  Destination_lat  \\\n",
       "72164  2019-11-19T23:00:08Z       3.021      36.751            3.031   \n",
       "23738  2019-11-19T23:00:10Z       2.972      36.760            3.006   \n",
       "\n",
       "       Destination_lon  Trip_distance  ETA  \n",
       "72164           36.769           3898  556  \n",
       "23738           36.728           5861  785  "
      ]
     },
     "execution_count": 12,
     "metadata": {},
     "output_type": "execute_result"
    }
   ],
   "source": [
    "# make sure sorted by date\n",
    "df_train = df_train.sort_values('Timestamp')\n",
    "\n",
    "df_train.head(2)"
   ]
  },
  {
   "cell_type": "code",
   "execution_count": 13,
   "metadata": {},
   "outputs": [
    {
     "data": {
      "text/html": [
       "<div>\n",
       "<style scoped>\n",
       "    .dataframe tbody tr th:only-of-type {\n",
       "        vertical-align: middle;\n",
       "    }\n",
       "\n",
       "    .dataframe tbody tr th {\n",
       "        vertical-align: top;\n",
       "    }\n",
       "\n",
       "    .dataframe thead th {\n",
       "        text-align: right;\n",
       "    }\n",
       "</style>\n",
       "<table border=\"1\" class=\"dataframe\">\n",
       "  <thead>\n",
       "    <tr style=\"text-align: right;\">\n",
       "      <th></th>\n",
       "      <th>ID</th>\n",
       "      <th>Timestamp</th>\n",
       "      <th>Origin_lat</th>\n",
       "      <th>Origin_lon</th>\n",
       "      <th>Destination_lat</th>\n",
       "      <th>Destination_lon</th>\n",
       "      <th>Trip_distance</th>\n",
       "      <th>ETA</th>\n",
       "    </tr>\n",
       "  </thead>\n",
       "  <tbody>\n",
       "    <tr>\n",
       "      <th>0</th>\n",
       "      <td>000FLWA8</td>\n",
       "      <td>2019-12-04T20:01:50Z</td>\n",
       "      <td>3.258</td>\n",
       "      <td>36.777</td>\n",
       "      <td>3.003</td>\n",
       "      <td>36.718</td>\n",
       "      <td>39627</td>\n",
       "      <td>2784</td>\n",
       "    </tr>\n",
       "    <tr>\n",
       "      <th>1</th>\n",
       "      <td>000RGOAM</td>\n",
       "      <td>2019-12-10T22:37:09Z</td>\n",
       "      <td>3.087</td>\n",
       "      <td>36.707</td>\n",
       "      <td>3.081</td>\n",
       "      <td>36.727</td>\n",
       "      <td>3918</td>\n",
       "      <td>576</td>\n",
       "    </tr>\n",
       "  </tbody>\n",
       "</table>\n",
       "</div>"
      ],
      "text/plain": [
       "         ID             Timestamp  Origin_lat  Origin_lon  Destination_lat  \\\n",
       "0  000FLWA8  2019-12-04T20:01:50Z       3.258      36.777            3.003   \n",
       "1  000RGOAM  2019-12-10T22:37:09Z       3.087      36.707            3.081   \n",
       "\n",
       "   Destination_lon  Trip_distance   ETA  \n",
       "0           36.718          39627  2784  \n",
       "1           36.727           3918   576  "
      ]
     },
     "execution_count": 13,
     "metadata": {},
     "output_type": "execute_result"
    }
   ],
   "source": [
    "# Split the datetime column into date and time components in both the train and test DataFrames.\n",
    "df_train = split_datetime_column(df_train, 'Timestamp')\n",
    "df_test = split_datetime_column(df_test, 'Timestamp')\n",
    "\n",
    "train.head(2)"
   ]
  },
  {
   "cell_type": "code",
   "execution_count": 14,
   "metadata": {},
   "outputs": [
    {
     "data": {
      "text/html": [
       "<div>\n",
       "<style scoped>\n",
       "    .dataframe tbody tr th:only-of-type {\n",
       "        vertical-align: middle;\n",
       "    }\n",
       "\n",
       "    .dataframe tbody tr th {\n",
       "        vertical-align: top;\n",
       "    }\n",
       "\n",
       "    .dataframe thead th {\n",
       "        text-align: right;\n",
       "    }\n",
       "</style>\n",
       "<table border=\"1\" class=\"dataframe\">\n",
       "  <thead>\n",
       "    <tr style=\"text-align: right;\">\n",
       "      <th></th>\n",
       "      <th>Origin_lat</th>\n",
       "      <th>Origin_lon</th>\n",
       "      <th>Destination_lat</th>\n",
       "      <th>Destination_lon</th>\n",
       "      <th>Trip_distance</th>\n",
       "      <th>ETA</th>\n",
       "      <th>date</th>\n",
       "      <th>total_secs</th>\n",
       "    </tr>\n",
       "  </thead>\n",
       "  <tbody>\n",
       "    <tr>\n",
       "      <th>80513</th>\n",
       "      <td>3.025</td>\n",
       "      <td>36.741</td>\n",
       "      <td>3.207</td>\n",
       "      <td>36.698</td>\n",
       "      <td>19627</td>\n",
       "      <td>1024</td>\n",
       "      <td>2019-11-26</td>\n",
       "      <td>73113</td>\n",
       "    </tr>\n",
       "    <tr>\n",
       "      <th>73545</th>\n",
       "      <td>3.034</td>\n",
       "      <td>36.747</td>\n",
       "      <td>3.042</td>\n",
       "      <td>36.775</td>\n",
       "      <td>5570</td>\n",
       "      <td>781</td>\n",
       "      <td>2019-11-20</td>\n",
       "      <td>82031</td>\n",
       "    </tr>\n",
       "  </tbody>\n",
       "</table>\n",
       "</div>"
      ],
      "text/plain": [
       "       Origin_lat  Origin_lon  Destination_lat  Destination_lon  \\\n",
       "80513       3.025      36.741            3.207           36.698   \n",
       "73545       3.034      36.747            3.042           36.775   \n",
       "\n",
       "       Trip_distance   ETA        date  total_secs  \n",
       "80513          19627  1024  2019-11-26       73113  \n",
       "73545           5570   781  2019-11-20       82031  "
      ]
     },
     "execution_count": 14,
     "metadata": {},
     "output_type": "execute_result"
    }
   ],
   "source": [
    "# Convert Time to Seconds\n",
    "time_to_secs(df_train)\n",
    "time_to_secs(df_test)\n",
    "\n",
    "df_train.sample(2)"
   ]
  },
  {
   "cell_type": "code",
   "execution_count": 15,
   "metadata": {},
   "outputs": [
    {
     "data": {
      "text/html": [
       "<div>\n",
       "<style scoped>\n",
       "    .dataframe tbody tr th:only-of-type {\n",
       "        vertical-align: middle;\n",
       "    }\n",
       "\n",
       "    .dataframe tbody tr th {\n",
       "        vertical-align: top;\n",
       "    }\n",
       "\n",
       "    .dataframe thead th {\n",
       "        text-align: right;\n",
       "    }\n",
       "</style>\n",
       "<table border=\"1\" class=\"dataframe\">\n",
       "  <thead>\n",
       "    <tr style=\"text-align: right;\">\n",
       "      <th></th>\n",
       "      <th>Origin_lat</th>\n",
       "      <th>Origin_lon</th>\n",
       "      <th>Destination_lat</th>\n",
       "      <th>Destination_lon</th>\n",
       "      <th>Trip_distance</th>\n",
       "      <th>ETA</th>\n",
       "      <th>total_secs</th>\n",
       "    </tr>\n",
       "    <tr>\n",
       "      <th>date</th>\n",
       "      <th></th>\n",
       "      <th></th>\n",
       "      <th></th>\n",
       "      <th></th>\n",
       "      <th></th>\n",
       "      <th></th>\n",
       "      <th></th>\n",
       "    </tr>\n",
       "  </thead>\n",
       "  <tbody>\n",
       "    <tr>\n",
       "      <th>2019-11-19</th>\n",
       "      <td>3.021</td>\n",
       "      <td>36.751</td>\n",
       "      <td>3.031</td>\n",
       "      <td>36.769</td>\n",
       "      <td>3898</td>\n",
       "      <td>556</td>\n",
       "      <td>82808</td>\n",
       "    </tr>\n",
       "    <tr>\n",
       "      <th>2019-11-19</th>\n",
       "      <td>2.972</td>\n",
       "      <td>36.760</td>\n",
       "      <td>3.006</td>\n",
       "      <td>36.728</td>\n",
       "      <td>5861</td>\n",
       "      <td>785</td>\n",
       "      <td>82810</td>\n",
       "    </tr>\n",
       "  </tbody>\n",
       "</table>\n",
       "</div>"
      ],
      "text/plain": [
       "            Origin_lat  Origin_lon  Destination_lat  Destination_lon  \\\n",
       "date                                                                   \n",
       "2019-11-19       3.021      36.751            3.031           36.769   \n",
       "2019-11-19       2.972      36.760            3.006           36.728   \n",
       "\n",
       "            Trip_distance  ETA  total_secs  \n",
       "date                                        \n",
       "2019-11-19           3898  556       82808  \n",
       "2019-11-19           5861  785       82810  "
      ]
     },
     "execution_count": 15,
     "metadata": {},
     "output_type": "execute_result"
    }
   ],
   "source": [
    "# set date as index for train and test set\n",
    "df_train.set_index('date', inplace= True)\n",
    "df_test.set_index('date', inplace= True)\n",
    "\n",
    "df_train.head(2)"
   ]
  },
  {
   "cell_type": "code",
   "execution_count": 16,
   "metadata": {},
   "outputs": [],
   "source": [
    "# Merge the weather dataset with Train and Test datasets\n",
    "df_train.reset_index()\n",
    "df_train = df_train.merge(df_weather, how=\"left\", on=\"date\")\n",
    "df_train.set_index(\"date\",inplace=True)\n",
    "\n",
    "df_test.reset_index()\n",
    "df_test = df_test.merge(df_weather, how=\"left\", on=\"date\")\n",
    "df_test.set_index(\"date\",inplace=True)"
   ]
  },
  {
   "cell_type": "code",
   "execution_count": 17,
   "metadata": {},
   "outputs": [
    {
     "data": {
      "text/html": [
       "<div>\n",
       "<style scoped>\n",
       "    .dataframe tbody tr th:only-of-type {\n",
       "        vertical-align: middle;\n",
       "    }\n",
       "\n",
       "    .dataframe tbody tr th {\n",
       "        vertical-align: top;\n",
       "    }\n",
       "\n",
       "    .dataframe thead th {\n",
       "        text-align: right;\n",
       "    }\n",
       "</style>\n",
       "<table border=\"1\" class=\"dataframe\">\n",
       "  <thead>\n",
       "    <tr style=\"text-align: right;\">\n",
       "      <th></th>\n",
       "      <th>Origin_lat</th>\n",
       "      <th>Origin_lon</th>\n",
       "      <th>Destination_lat</th>\n",
       "      <th>Destination_lon</th>\n",
       "      <th>Trip_distance</th>\n",
       "      <th>ETA</th>\n",
       "      <th>total_secs</th>\n",
       "      <th>dewpoint_2m_temperature</th>\n",
       "      <th>maximum_2m_air_temperature</th>\n",
       "      <th>mean_2m_air_temperature</th>\n",
       "      <th>mean_sea_level_pressure</th>\n",
       "      <th>minimum_2m_air_temperature</th>\n",
       "      <th>surface_pressure</th>\n",
       "      <th>total_precipitation</th>\n",
       "      <th>u_component_of_wind_10m</th>\n",
       "      <th>v_component_of_wind_10m</th>\n",
       "    </tr>\n",
       "    <tr>\n",
       "      <th>date</th>\n",
       "      <th></th>\n",
       "      <th></th>\n",
       "      <th></th>\n",
       "      <th></th>\n",
       "      <th></th>\n",
       "      <th></th>\n",
       "      <th></th>\n",
       "      <th></th>\n",
       "      <th></th>\n",
       "      <th></th>\n",
       "      <th></th>\n",
       "      <th></th>\n",
       "      <th></th>\n",
       "      <th></th>\n",
       "      <th></th>\n",
       "      <th></th>\n",
       "    </tr>\n",
       "  </thead>\n",
       "  <tbody>\n",
       "    <tr>\n",
       "      <th>2019-11-29</th>\n",
       "      <td>3.033</td>\n",
       "      <td>36.760</td>\n",
       "      <td>2.931</td>\n",
       "      <td>36.805</td>\n",
       "      <td>16165</td>\n",
       "      <td>1732</td>\n",
       "      <td>74187</td>\n",
       "      <td>284.880951</td>\n",
       "      <td>292.095917</td>\n",
       "      <td>288.464325</td>\n",
       "      <td>102024.273438</td>\n",
       "      <td>285.781342</td>\n",
       "      <td>100969.460938</td>\n",
       "      <td>-1.860000e-09</td>\n",
       "      <td>1.861566</td>\n",
       "      <td>1.091003</td>\n",
       "    </tr>\n",
       "    <tr>\n",
       "      <th>2019-12-05</th>\n",
       "      <td>2.982</td>\n",
       "      <td>36.758</td>\n",
       "      <td>3.059</td>\n",
       "      <td>36.776</td>\n",
       "      <td>13043</td>\n",
       "      <td>1535</td>\n",
       "      <td>76099</td>\n",
       "      <td>283.376892</td>\n",
       "      <td>291.184631</td>\n",
       "      <td>287.946655</td>\n",
       "      <td>101614.273438</td>\n",
       "      <td>285.452698</td>\n",
       "      <td>100561.617188</td>\n",
       "      <td>6.500000e-06</td>\n",
       "      <td>-1.013597</td>\n",
       "      <td>0.962993</td>\n",
       "    </tr>\n",
       "  </tbody>\n",
       "</table>\n",
       "</div>"
      ],
      "text/plain": [
       "            Origin_lat  Origin_lon  Destination_lat  Destination_lon  \\\n",
       "date                                                                   \n",
       "2019-11-29       3.033      36.760            2.931           36.805   \n",
       "2019-12-05       2.982      36.758            3.059           36.776   \n",
       "\n",
       "            Trip_distance   ETA  total_secs  dewpoint_2m_temperature  \\\n",
       "date                                                                   \n",
       "2019-11-29          16165  1732       74187               284.880951   \n",
       "2019-12-05          13043  1535       76099               283.376892   \n",
       "\n",
       "            maximum_2m_air_temperature  mean_2m_air_temperature  \\\n",
       "date                                                              \n",
       "2019-11-29                  292.095917               288.464325   \n",
       "2019-12-05                  291.184631               287.946655   \n",
       "\n",
       "            mean_sea_level_pressure  minimum_2m_air_temperature  \\\n",
       "date                                                              \n",
       "2019-11-29            102024.273438                  285.781342   \n",
       "2019-12-05            101614.273438                  285.452698   \n",
       "\n",
       "            surface_pressure  total_precipitation  u_component_of_wind_10m  \\\n",
       "date                                                                         \n",
       "2019-11-29     100969.460938        -1.860000e-09                 1.861566   \n",
       "2019-12-05     100561.617188         6.500000e-06                -1.013597   \n",
       "\n",
       "            v_component_of_wind_10m  \n",
       "date                                 \n",
       "2019-11-29                 1.091003  \n",
       "2019-12-05                 0.962993  "
      ]
     },
     "execution_count": 17,
     "metadata": {},
     "output_type": "execute_result"
    }
   ],
   "source": [
    "df_train.sample(2)"
   ]
  },
  {
   "cell_type": "code",
   "execution_count": 18,
   "metadata": {},
   "outputs": [
    {
     "name": "stdout",
     "output_type": "stream",
     "text": [
      "Duplicates in Train: 158\n",
      "Duplicates in Test: 80\n"
     ]
    }
   ],
   "source": [
    "#Check for duplicates\n",
    "print(\"Duplicates in Train:\", df_train.duplicated().sum())\n",
    "print(\"Duplicates in Test:\", df_test.duplicated().sum())"
   ]
  },
  {
   "cell_type": "markdown",
   "metadata": {},
   "source": [
    "There are duplicate data in the Train and Test data set. Exclude the duplicated data from both the datasets"
   ]
  },
  {
   "cell_type": "code",
   "execution_count": 19,
   "metadata": {},
   "outputs": [],
   "source": [
    "df_train.drop_duplicates(inplace=True)\n",
    "df_test.drop_duplicates(inplace=True)"
   ]
  },
  {
   "cell_type": "code",
   "execution_count": 20,
   "metadata": {},
   "outputs": [
    {
     "data": {
      "text/html": [
       "<div>\n",
       "<style scoped>\n",
       "    .dataframe tbody tr th:only-of-type {\n",
       "        vertical-align: middle;\n",
       "    }\n",
       "\n",
       "    .dataframe tbody tr th {\n",
       "        vertical-align: top;\n",
       "    }\n",
       "\n",
       "    .dataframe thead th {\n",
       "        text-align: right;\n",
       "    }\n",
       "</style>\n",
       "<table border=\"1\" class=\"dataframe\">\n",
       "  <thead>\n",
       "    <tr style=\"text-align: right;\">\n",
       "      <th></th>\n",
       "      <th>Origin_lat</th>\n",
       "      <th>Origin_lon</th>\n",
       "      <th>Destination_lat</th>\n",
       "      <th>Destination_lon</th>\n",
       "      <th>Trip_distance</th>\n",
       "      <th>ETA</th>\n",
       "      <th>total_secs</th>\n",
       "      <th>dewpoint_2m_temperature</th>\n",
       "      <th>maximum_2m_air_temperature</th>\n",
       "      <th>mean_2m_air_temperature</th>\n",
       "      <th>mean_sea_level_pressure</th>\n",
       "      <th>minimum_2m_air_temperature</th>\n",
       "      <th>surface_pressure</th>\n",
       "      <th>total_precipitation</th>\n",
       "      <th>u_component_of_wind_10m</th>\n",
       "      <th>v_component_of_wind_10m</th>\n",
       "    </tr>\n",
       "  </thead>\n",
       "  <tbody>\n",
       "    <tr>\n",
       "      <th>count</th>\n",
       "      <td>83766.000000</td>\n",
       "      <td>83766.000000</td>\n",
       "      <td>83766.000000</td>\n",
       "      <td>83766.000000</td>\n",
       "      <td>83766.000000</td>\n",
       "      <td>83766.000000</td>\n",
       "      <td>83766.000000</td>\n",
       "      <td>83766.000000</td>\n",
       "      <td>83766.000000</td>\n",
       "      <td>83766.000000</td>\n",
       "      <td>83766.000000</td>\n",
       "      <td>83766.000000</td>\n",
       "      <td>83766.000000</td>\n",
       "      <td>8.376600e+04</td>\n",
       "      <td>83766.000000</td>\n",
       "      <td>83766.000000</td>\n",
       "    </tr>\n",
       "    <tr>\n",
       "      <th>mean</th>\n",
       "      <td>3.052426</td>\n",
       "      <td>36.739357</td>\n",
       "      <td>3.056953</td>\n",
       "      <td>36.737732</td>\n",
       "      <td>13531.376633</td>\n",
       "      <td>1111.931643</td>\n",
       "      <td>56900.100423</td>\n",
       "      <td>283.662907</td>\n",
       "      <td>291.342054</td>\n",
       "      <td>288.556229</td>\n",
       "      <td>101512.220527</td>\n",
       "      <td>285.692680</td>\n",
       "      <td>100459.614361</td>\n",
       "      <td>1.295076e-03</td>\n",
       "      <td>1.931299</td>\n",
       "      <td>1.346803</td>\n",
       "    </tr>\n",
       "    <tr>\n",
       "      <th>std</th>\n",
       "      <td>0.096387</td>\n",
       "      <td>0.032076</td>\n",
       "      <td>0.100714</td>\n",
       "      <td>0.032781</td>\n",
       "      <td>9297.648725</td>\n",
       "      <td>563.641738</td>\n",
       "      <td>31561.728159</td>\n",
       "      <td>1.776596</td>\n",
       "      <td>1.647486</td>\n",
       "      <td>1.349024</td>\n",
       "      <td>570.580041</td>\n",
       "      <td>1.314097</td>\n",
       "      <td>563.667948</td>\n",
       "      <td>2.752148e-03</td>\n",
       "      <td>3.207848</td>\n",
       "      <td>1.430755</td>\n",
       "    </tr>\n",
       "    <tr>\n",
       "      <th>min</th>\n",
       "      <td>2.807000</td>\n",
       "      <td>36.589000</td>\n",
       "      <td>2.807000</td>\n",
       "      <td>36.596000</td>\n",
       "      <td>1.000000</td>\n",
       "      <td>1.000000</td>\n",
       "      <td>0.000000</td>\n",
       "      <td>279.516693</td>\n",
       "      <td>288.200623</td>\n",
       "      <td>285.203339</td>\n",
       "      <td>100172.914062</td>\n",
       "      <td>282.348389</td>\n",
       "      <td>99133.382812</td>\n",
       "      <td>-4.280000e-08</td>\n",
       "      <td>-5.210768</td>\n",
       "      <td>-1.544611</td>\n",
       "    </tr>\n",
       "    <tr>\n",
       "      <th>25%</th>\n",
       "      <td>2.994000</td>\n",
       "      <td>36.721000</td>\n",
       "      <td>2.995000</td>\n",
       "      <td>36.718000</td>\n",
       "      <td>6110.000000</td>\n",
       "      <td>701.000000</td>\n",
       "      <td>19462.250000</td>\n",
       "      <td>282.495026</td>\n",
       "      <td>290.305847</td>\n",
       "      <td>287.432953</td>\n",
       "      <td>101204.843750</td>\n",
       "      <td>285.040802</td>\n",
       "      <td>100152.750000</td>\n",
       "      <td>2.960000e-06</td>\n",
       "      <td>-0.448077</td>\n",
       "      <td>0.790974</td>\n",
       "    </tr>\n",
       "    <tr>\n",
       "      <th>50%</th>\n",
       "      <td>3.046000</td>\n",
       "      <td>36.742000</td>\n",
       "      <td>3.049000</td>\n",
       "      <td>36.742000</td>\n",
       "      <td>11735.000000</td>\n",
       "      <td>1054.000000</td>\n",
       "      <td>74790.000000</td>\n",
       "      <td>283.759460</td>\n",
       "      <td>291.369965</td>\n",
       "      <td>288.458771</td>\n",
       "      <td>101586.085938</td>\n",
       "      <td>285.601501</td>\n",
       "      <td>100524.632812</td>\n",
       "      <td>5.320000e-05</td>\n",
       "      <td>1.817804</td>\n",
       "      <td>1.091003</td>\n",
       "    </tr>\n",
       "    <tr>\n",
       "      <th>75%</th>\n",
       "      <td>3.095000</td>\n",
       "      <td>36.760000</td>\n",
       "      <td>3.109000</td>\n",
       "      <td>36.760000</td>\n",
       "      <td>19372.750000</td>\n",
       "      <td>1457.000000</td>\n",
       "      <td>79620.000000</td>\n",
       "      <td>284.880951</td>\n",
       "      <td>292.536530</td>\n",
       "      <td>289.742035</td>\n",
       "      <td>102011.875000</td>\n",
       "      <td>286.303833</td>\n",
       "      <td>100959.804688</td>\n",
       "      <td>5.368199e-04</td>\n",
       "      <td>4.064997</td>\n",
       "      <td>1.949917</td>\n",
       "    </tr>\n",
       "    <tr>\n",
       "      <th>max</th>\n",
       "      <td>3.381000</td>\n",
       "      <td>36.820000</td>\n",
       "      <td>3.381000</td>\n",
       "      <td>36.819000</td>\n",
       "      <td>62028.000000</td>\n",
       "      <td>5238.000000</td>\n",
       "      <td>86398.000000</td>\n",
       "      <td>286.326782</td>\n",
       "      <td>294.419952</td>\n",
       "      <td>291.593323</td>\n",
       "      <td>102472.148438</td>\n",
       "      <td>287.693237</td>\n",
       "      <td>101401.242188</td>\n",
       "      <td>9.122318e-03</td>\n",
       "      <td>9.466430</td>\n",
       "      <td>6.000363</td>\n",
       "    </tr>\n",
       "  </tbody>\n",
       "</table>\n",
       "</div>"
      ],
      "text/plain": [
       "         Origin_lat    Origin_lon  Destination_lat  Destination_lon  \\\n",
       "count  83766.000000  83766.000000     83766.000000     83766.000000   \n",
       "mean       3.052426     36.739357         3.056953        36.737732   \n",
       "std        0.096387      0.032076         0.100714         0.032781   \n",
       "min        2.807000     36.589000         2.807000        36.596000   \n",
       "25%        2.994000     36.721000         2.995000        36.718000   \n",
       "50%        3.046000     36.742000         3.049000        36.742000   \n",
       "75%        3.095000     36.760000         3.109000        36.760000   \n",
       "max        3.381000     36.820000         3.381000        36.819000   \n",
       "\n",
       "       Trip_distance           ETA    total_secs  dewpoint_2m_temperature  \\\n",
       "count   83766.000000  83766.000000  83766.000000             83766.000000   \n",
       "mean    13531.376633   1111.931643  56900.100423               283.662907   \n",
       "std      9297.648725    563.641738  31561.728159                 1.776596   \n",
       "min         1.000000      1.000000      0.000000               279.516693   \n",
       "25%      6110.000000    701.000000  19462.250000               282.495026   \n",
       "50%     11735.000000   1054.000000  74790.000000               283.759460   \n",
       "75%     19372.750000   1457.000000  79620.000000               284.880951   \n",
       "max     62028.000000   5238.000000  86398.000000               286.326782   \n",
       "\n",
       "       maximum_2m_air_temperature  mean_2m_air_temperature  \\\n",
       "count                83766.000000             83766.000000   \n",
       "mean                   291.342054               288.556229   \n",
       "std                      1.647486                 1.349024   \n",
       "min                    288.200623               285.203339   \n",
       "25%                    290.305847               287.432953   \n",
       "50%                    291.369965               288.458771   \n",
       "75%                    292.536530               289.742035   \n",
       "max                    294.419952               291.593323   \n",
       "\n",
       "       mean_sea_level_pressure  minimum_2m_air_temperature  surface_pressure  \\\n",
       "count             83766.000000                83766.000000      83766.000000   \n",
       "mean             101512.220527                  285.692680     100459.614361   \n",
       "std                 570.580041                    1.314097        563.667948   \n",
       "min              100172.914062                  282.348389      99133.382812   \n",
       "25%              101204.843750                  285.040802     100152.750000   \n",
       "50%              101586.085938                  285.601501     100524.632812   \n",
       "75%              102011.875000                  286.303833     100959.804688   \n",
       "max              102472.148438                  287.693237     101401.242188   \n",
       "\n",
       "       total_precipitation  u_component_of_wind_10m  v_component_of_wind_10m  \n",
       "count         8.376600e+04             83766.000000             83766.000000  \n",
       "mean          1.295076e-03                 1.931299                 1.346803  \n",
       "std           2.752148e-03                 3.207848                 1.430755  \n",
       "min          -4.280000e-08                -5.210768                -1.544611  \n",
       "25%           2.960000e-06                -0.448077                 0.790974  \n",
       "50%           5.320000e-05                 1.817804                 1.091003  \n",
       "75%           5.368199e-04                 4.064997                 1.949917  \n",
       "max           9.122318e-03                 9.466430                 6.000363  "
      ]
     },
     "execution_count": 20,
     "metadata": {},
     "output_type": "execute_result"
    }
   ],
   "source": [
    "df_train.describe()"
   ]
  },
  {
   "cell_type": "markdown",
   "metadata": {},
   "source": [
    "### Exploratory Data Analysis"
   ]
  },
  {
   "cell_type": "code",
   "execution_count": 21,
   "metadata": {},
   "outputs": [
    {
     "data": {
      "image/png": "[encoded data removed]",
      "text/plain": [
       "<Figure size 600x600 with 2 Axes>"
      ]
     },
     "metadata": {},
     "output_type": "display_data"
    }
   ],
   "source": [
    "# Correlation Heatmap\n",
    "correlation_matrix = df_train[['Trip_distance', 'ETA', 'dewpoint_2m_temperature',\n",
    "                         'maximum_2m_air_temperature', 'mean_2m_air_temperature']].corr()\n",
    "\n",
    "plt.figure(figsize=(6, 6))\n",
    "sns.heatmap(correlation_matrix, annot=True, cmap='coolwarm')\n",
    "plt.title('Correlation Heatmap')\n",
    "plt.show()"
   ]
  },
  {
   "cell_type": "markdown",
   "metadata": {},
   "source": [
    "Is the train data complete?"
   ]
  },
  {
   "cell_type": "code",
   "execution_count": 29,
   "metadata": {},
   "outputs": [
    {
     "name": "stdout",
     "output_type": "stream",
     "text": [
      "we have 0 dates missing out of 83766\n",
      "start: 2019-11-19, end: 2019-12-19\n"
     ]
    },
    {
     "data": {
      "text/plain": [
       "DatetimeIndex([], dtype='datetime64[ns]', freq=None)"
      ]
     },
     "execution_count": 29,
     "metadata": {},
     "output_type": "execute_result"
    }
   ],
   "source": [
    "get_missing_dates(df_train)"
   ]
  },
  {
   "cell_type": "code",
   "execution_count": 30,
   "metadata": {},
   "outputs": [
    {
     "name": "stdout",
     "output_type": "stream",
     "text": [
      "we have 0 dates missing out of 35545\n",
      "start: 2019-12-20, end: 2019-12-31\n"
     ]
    },
    {
     "data": {
      "text/plain": [
       "DatetimeIndex([], dtype='datetime64[ns]', freq=None)"
      ]
     },
     "execution_count": 30,
     "metadata": {},
     "output_type": "execute_result"
    }
   ],
   "source": [
    "get_missing_dates(df_test)"
   ]
  },
  {
   "cell_type": "code",
   "execution_count": 31,
   "metadata": {},
   "outputs": [],
   "source": [
    "# missing values imputation\n",
    "train = fill_missing_dates(df_train)\n",
    "test = fill_missing_dates(df_test)"
   ]
  },
  {
   "cell_type": "markdown",
   "metadata": {},
   "source": [
    "Do we have seasonality in ETA?"
   ]
  },
  {
   "cell_type": "code",
   "execution_count": 32,
   "metadata": {},
   "outputs": [],
   "source": [
    "#time series data is stored in the variable 'eta_data'\n",
    "eta_data = df_train['ETA']"
   ]
  },
  {
   "cell_type": "code",
   "execution_count": 36,
   "metadata": {},
   "outputs": [],
   "source": [
    "# Perform KPSS test\n",
    "kpss_result = kpss(eta_data)\n",
    "kpss_statistic = kpss_result[0]\n",
    "kpss_pvalue = kpss_result[1]\n",
    "kpss_critical_values = kpss_result[3]"
   ]
  },
  {
   "cell_type": "code",
   "execution_count": 37,
   "metadata": {},
   "outputs": [
    {
     "name": "stdout",
     "output_type": "stream",
     "text": [
      "\n",
      "KPSS Test:\n",
      "KPSS Statistic: 0.6261575351853694\n",
      "p-value: 0.02025840589223914\n"
     ]
    }
   ],
   "source": [
    "print(\"\\nKPSS Test:\")\n",
    "print(\"KPSS Statistic:\", kpss_statistic)\n",
    "print(\"p-value:\", kpss_pvalue)"
   ]
  },
  {
   "cell_type": "markdown",
   "metadata": {},
   "source": [
    "stationary if p-value > 0.05\n",
    "\n",
    "series is stationary since 0.02 < 0.05"
   ]
  },
  {
   "cell_type": "code",
   "execution_count": 39,
   "metadata": {},
   "outputs": [
    {
     "name": "stdout",
     "output_type": "stream",
     "text": [
      "ADF Statistic: -31.05057817565558\n",
      "p-value: 0.0\n",
      "The time series is likely stationary.\n"
     ]
    }
   ],
   "source": [
    "# Perform the ADF test\n",
    "result = adfuller(df_train['ETA'])\n",
    "\n",
    "# Extract and print the results\n",
    "adf_statistic = result[0]\n",
    "p_value = result[1]\n",
    "\n",
    "print(f'ADF Statistic: {adf_statistic}')\n",
    "print(f'p-value: {p_value}')\n",
    "\n",
    "# Check the p-value against a significance level (e.g., 0.05) to make a decision about stationarity\n",
    "if p_value <= 0.05:\n",
    "    print('The time series is likely stationary.')\n",
    "else:\n",
    "    print('The time series is likely non-stationary.')"
   ]
  },
  {
   "cell_type": "markdown",
   "metadata": {},
   "source": [
    "What is the distribution of ETA?"
   ]
  },
  {
   "cell_type": "code",
   "execution_count": 40,
   "metadata": {},
   "outputs": [
    {
     "name": "stdout",
     "output_type": "stream",
     "text": [
      "Mean ETA: 1111.9316429100113\n",
      "Median ETA: 1054.0\n",
      "Standard Deviation of ETA: 563.6417384674885\n"
     ]
    }
   ],
   "source": [
    "# Distribution of ETA:\n",
    "print(\"Mean ETA:\", df_train['ETA'].mean())\n",
    "print(\"Median ETA:\", df_train['ETA'].median())\n",
    "print(\"Standard Deviation of ETA:\", df_train['ETA'].std())"
   ]
  },
  {
   "cell_type": "markdown",
   "metadata": {},
   "source": [
    "What is the distribution of trip distances?"
   ]
  },
  {
   "cell_type": "code",
   "execution_count": 45,
   "metadata": {},
   "outputs": [
    {
     "data": {
      "image/png": "[encoded data removed]",
      "text/plain": [
       "<Figure size 800x400 with 1 Axes>"
      ]
     },
     "metadata": {},
     "output_type": "display_data"
    }
   ],
   "source": [
    "# Set seaborn style\n",
    "sns.set(style=\"whitegrid\")\n",
    "\n",
    "# Question 1: Distribution of Trip Distances\n",
    "plt.figure(figsize=(8, 4))\n",
    "sns.histplot(df_train['Trip_distance'], bins=20, kde=True)\n",
    "plt.title('Distribution of Trip Distances')\n",
    "plt.xlabel('Trip Distance')\n",
    "plt.ylabel('Frequency')\n",
    "plt.show()"
   ]
  },
  {
   "cell_type": "markdown",
   "metadata": {},
   "source": [
    "How does ETA vary over time? Is there a trend?"
   ]
  },
  {
   "cell_type": "code",
   "execution_count": 47,
   "metadata": {},
   "outputs": [
    {
     "data": {
      "image/png": "[encoded data removed]",
      "text/plain": [
       "<Figure size 1200x400 with 1 Axes>"
      ]
     },
     "metadata": {},
     "output_type": "display_data"
    }
   ],
   "source": [
    "# Question 2: Variation of Trips over Time\n",
    "plt.figure(figsize=(12, 4))\n",
    "df_train['ETA'].plot()\n",
    "plt.title('Variation of Trips over Time')\n",
    "plt.xlabel('Date')\n",
    "plt.ylabel('ETA')\n",
    "plt.show()"
   ]
  },
  {
   "cell_type": "code",
   "execution_count": 49,
   "metadata": {},
   "outputs": [
    {
     "data": {
      "image/png": "[encoded data removed]",
      "text/plain": [
       "<Figure size 800x400 with 2 Axes>"
      ]
     },
     "metadata": {},
     "output_type": "display_data"
    }
   ],
   "source": [
    "# Question 3: Correlation Heatmap\n",
    "correlation_matrix = df_train[['Trip_distance', 'ETA', 'dewpoint_2m_temperature',\n",
    "                         'maximum_2m_air_temperature', 'mean_2m_air_temperature']].corr()\n",
    "\n",
    "plt.figure(figsize=(8, 4))\n",
    "sns.heatmap(correlation_matrix, annot=True, cmap='coolwarm')\n",
    "plt.title('Correlation Heatmap')\n",
    "plt.show()"
   ]
  },
  {
   "cell_type": "markdown",
   "metadata": {},
   "source": [
    "maximum_2m_air_temperature and mean_2m_air_temperature have a high correlation of 0.77 or 77%"
   ]
  },
  {
   "cell_type": "code",
   "execution_count": 50,
   "metadata": {},
   "outputs": [
    {
     "data": {
      "image/png": "[encoded data removed]",
      "text/plain": [
       "<Figure size 1000x400 with 1 Axes>"
      ]
     },
     "metadata": {},
     "output_type": "display_data"
    }
   ],
   "source": [
    "# Question 4: Distribution of Trip Durations\n",
    "plt.figure(figsize=(10, 4))\n",
    "sns.histplot(df_train['total_secs'], bins=30, kde=True)\n",
    "plt.title('Distribution of Trip Durations')\n",
    "plt.xlabel('Trip Duration (seconds)')\n",
    "plt.ylabel('Frequency')\n",
    "plt.show()"
   ]
  },
  {
   "cell_type": "markdown",
   "metadata": {},
   "source": [
    "### Features Encoding & scaling"
   ]
  },
  {
   "cell_type": "code",
   "execution_count": 51,
   "metadata": {},
   "outputs": [
    {
     "data": {
      "text/plain": [
       "['Origin_lat',\n",
       " 'Origin_lon',\n",
       " 'Destination_lat',\n",
       " 'Destination_lon',\n",
       " 'Trip_distance',\n",
       " 'ETA',\n",
       " 'total_secs',\n",
       " 'dewpoint_2m_temperature',\n",
       " 'maximum_2m_air_temperature',\n",
       " 'mean_2m_air_temperature',\n",
       " 'mean_sea_level_pressure',\n",
       " 'minimum_2m_air_temperature',\n",
       " 'surface_pressure',\n",
       " 'total_precipitation',\n",
       " 'u_component_of_wind_10m',\n",
       " 'v_component_of_wind_10m']"
      ]
     },
     "execution_count": 51,
     "metadata": {},
     "output_type": "execute_result"
    }
   ],
   "source": [
    "numeric_columns = df_train.select_dtypes(include=['int64', 'int32', 'float64']).columns.tolist()\n",
    "numeric_columns"
   ]
  },
  {
   "cell_type": "code",
   "execution_count": 52,
   "metadata": {},
   "outputs": [
    {
     "data": {
      "text/plain": [
       "[]"
      ]
     },
     "execution_count": 52,
     "metadata": {},
     "output_type": "execute_result"
    }
   ],
   "source": [
    "categoric_columns = [col for col in df_train.columns if col not in numeric_columns]\n",
    "categoric_columns"
   ]
  },
  {
   "cell_type": "code",
   "execution_count": 53,
   "metadata": {},
   "outputs": [],
   "source": [
    "numeric_columns.remove('ETA')"
   ]
  },
  {
   "cell_type": "markdown",
   "metadata": {},
   "source": [
    "#### Scaling"
   ]
  },
  {
   "cell_type": "code",
   "execution_count": 57,
   "metadata": {},
   "outputs": [],
   "source": [
    "# Create an instance of StandardScaler and set output to be a DataFrame\n",
    "scaler = StandardScaler().fit(df_train[numeric_columns]).set_output(transform=\"pandas\")\n",
    "\n",
    "num = scaler.transform(df_train[numeric_columns])\n",
    "num_test = scaler.transform(df_test[numeric_columns])"
   ]
  },
  {
   "cell_type": "code",
   "execution_count": 59,
   "metadata": {},
   "outputs": [
    {
     "data": {
      "text/html": [
       "<div>\n",
       "<style scoped>\n",
       "    .dataframe tbody tr th:only-of-type {\n",
       "        vertical-align: middle;\n",
       "    }\n",
       "\n",
       "    .dataframe tbody tr th {\n",
       "        vertical-align: top;\n",
       "    }\n",
       "\n",
       "    .dataframe thead th {\n",
       "        text-align: right;\n",
       "    }\n",
       "</style>\n",
       "<table border=\"1\" class=\"dataframe\">\n",
       "  <thead>\n",
       "    <tr style=\"text-align: right;\">\n",
       "      <th></th>\n",
       "      <th>Origin_lat</th>\n",
       "      <th>Origin_lon</th>\n",
       "      <th>Destination_lat</th>\n",
       "      <th>Destination_lon</th>\n",
       "      <th>Trip_distance</th>\n",
       "      <th>total_secs</th>\n",
       "      <th>dewpoint_2m_temperature</th>\n",
       "      <th>maximum_2m_air_temperature</th>\n",
       "      <th>mean_2m_air_temperature</th>\n",
       "      <th>mean_sea_level_pressure</th>\n",
       "      <th>minimum_2m_air_temperature</th>\n",
       "      <th>surface_pressure</th>\n",
       "      <th>total_precipitation</th>\n",
       "      <th>u_component_of_wind_10m</th>\n",
       "      <th>v_component_of_wind_10m</th>\n",
       "    </tr>\n",
       "    <tr>\n",
       "      <th>date</th>\n",
       "      <th></th>\n",
       "      <th></th>\n",
       "      <th></th>\n",
       "      <th></th>\n",
       "      <th></th>\n",
       "      <th></th>\n",
       "      <th></th>\n",
       "      <th></th>\n",
       "      <th></th>\n",
       "      <th></th>\n",
       "      <th></th>\n",
       "      <th></th>\n",
       "      <th></th>\n",
       "      <th></th>\n",
       "      <th></th>\n",
       "    </tr>\n",
       "  </thead>\n",
       "  <tbody>\n",
       "    <tr>\n",
       "      <th>2019-12-10</th>\n",
       "      <td>-0.398663</td>\n",
       "      <td>0.425343</td>\n",
       "      <td>0.258623</td>\n",
       "      <td>-0.998504</td>\n",
       "      <td>-0.324641</td>\n",
       "      <td>0.927455</td>\n",
       "      <td>-0.774680</td>\n",
       "      <td>-1.319035</td>\n",
       "      <td>-1.161882</td>\n",
       "      <td>1.682382</td>\n",
       "      <td>-1.441260</td>\n",
       "      <td>1.670546</td>\n",
       "      <td>0.009754</td>\n",
       "      <td>0.192992</td>\n",
       "      <td>-2.020913</td>\n",
       "    </tr>\n",
       "    <tr>\n",
       "      <th>2019-12-09</th>\n",
       "      <td>0.483206</td>\n",
       "      <td>-2.224596</td>\n",
       "      <td>-0.436416</td>\n",
       "      <td>1.350406</td>\n",
       "      <td>0.676479</td>\n",
       "      <td>0.526555</td>\n",
       "      <td>0.715378</td>\n",
       "      <td>-0.628966</td>\n",
       "      <td>-0.359522</td>\n",
       "      <td>1.590260</td>\n",
       "      <td>-0.243236</td>\n",
       "      <td>1.584530</td>\n",
       "      <td>-0.310731</td>\n",
       "      <td>1.064820</td>\n",
       "      <td>-0.266482</td>\n",
       "    </tr>\n",
       "  </tbody>\n",
       "</table>\n",
       "</div>"
      ],
      "text/plain": [
       "            Origin_lat  Origin_lon  Destination_lat  Destination_lon  \\\n",
       "date                                                                   \n",
       "2019-12-10   -0.398663    0.425343         0.258623        -0.998504   \n",
       "2019-12-09    0.483206   -2.224596        -0.436416         1.350406   \n",
       "\n",
       "            Trip_distance  total_secs  dewpoint_2m_temperature  \\\n",
       "date                                                             \n",
       "2019-12-10      -0.324641    0.927455                -0.774680   \n",
       "2019-12-09       0.676479    0.526555                 0.715378   \n",
       "\n",
       "            maximum_2m_air_temperature  mean_2m_air_temperature  \\\n",
       "date                                                              \n",
       "2019-12-10                   -1.319035                -1.161882   \n",
       "2019-12-09                   -0.628966                -0.359522   \n",
       "\n",
       "            mean_sea_level_pressure  minimum_2m_air_temperature  \\\n",
       "date                                                              \n",
       "2019-12-10                 1.682382                   -1.441260   \n",
       "2019-12-09                 1.590260                   -0.243236   \n",
       "\n",
       "            surface_pressure  total_precipitation  u_component_of_wind_10m  \\\n",
       "date                                                                         \n",
       "2019-12-10          1.670546             0.009754                 0.192992   \n",
       "2019-12-09          1.584530            -0.310731                 1.064820   \n",
       "\n",
       "            v_component_of_wind_10m  \n",
       "date                                 \n",
       "2019-12-10                -2.020913  \n",
       "2019-12-09                -0.266482  "
      ]
     },
     "execution_count": 59,
     "metadata": {},
     "output_type": "execute_result"
    }
   ],
   "source": [
    "num.sample(2)"
   ]
  },
  {
   "cell_type": "markdown",
   "metadata": {},
   "source": [
    "#### Splitting"
   ]
  },
  {
   "cell_type": "code",
   "execution_count": 60,
   "metadata": {},
   "outputs": [],
   "source": [
    "cut_num = len(df_train) * 0.12\n",
    "cut_num = int(cut_num)"
   ]
  },
  {
   "cell_type": "code",
   "execution_count": 61,
   "metadata": {},
   "outputs": [],
   "source": [
    "df_train, eval_set = df_train[cut_num:], df_train[:cut_num]"
   ]
  },
  {
   "cell_type": "code",
   "execution_count": 62,
   "metadata": {},
   "outputs": [],
   "source": [
    "# Split data into parts\n",
    "x = df_train.drop(['ETA'], axis = 1)\n",
    "y = df_train['ETA']"
   ]
  },
  {
   "cell_type": "code",
   "execution_count": 63,
   "metadata": {},
   "outputs": [],
   "source": [
    "cut_num = len(train) * 0.2\n",
    "cut_num = int(cut_num)"
   ]
  },
  {
   "cell_type": "code",
   "execution_count": 64,
   "metadata": {},
   "outputs": [],
   "source": [
    "# Split data into Train Test\n",
    "X_train, X_test, y_train, y_test = x[cut_num:], x[:cut_num], y[cut_num:], y[:cut_num]"
   ]
  },
  {
   "cell_type": "markdown",
   "metadata": {},
   "source": [
    "### ML Model Building\n",
    "\n",
    "#### RandomForest Regressor"
   ]
  },
  {
   "cell_type": "code",
   "execution_count": 66,
   "metadata": {},
   "outputs": [],
   "source": [
    "randforest = RandomForestRegressor()\n",
    "rfModel = randforest.fit(X_train, y_train)"
   ]
  },
  {
   "cell_type": "code",
   "execution_count": 67,
   "metadata": {},
   "outputs": [],
   "source": [
    "rfModel_pred = rfModel.predict(X_test)"
   ]
  },
  {
   "cell_type": "code",
   "execution_count": 69,
   "metadata": {},
   "outputs": [
    {
     "data": {
      "image/png": "[encoded data removed]",
      "text/plain": [
       "<Figure size 800x400 with 1 Axes>"
      ]
     },
     "metadata": {},
     "output_type": "display_data"
    }
   ],
   "source": [
    "plt.figure(figsize=(8, 4))\n",
    "plt.plot(y_test, label='Actual ETA')\n",
    "plt.plot(rfModel_pred, label='RandomForestRegressor')\n",
    "plt.legend(loc='best')\n",
    "plt.title('RandomForestRegressor Prediction')\n",
    "plt.show()"
   ]
  },
  {
   "cell_type": "code",
   "execution_count": 72,
   "metadata": {},
   "outputs": [
    {
     "data": {
      "text/html": [
       "<div>\n",
       "<style scoped>\n",
       "    .dataframe tbody tr th:only-of-type {\n",
       "        vertical-align: middle;\n",
       "    }\n",
       "\n",
       "    .dataframe tbody tr th {\n",
       "        vertical-align: top;\n",
       "    }\n",
       "\n",
       "    .dataframe thead th {\n",
       "        text-align: right;\n",
       "    }\n",
       "</style>\n",
       "<table border=\"1\" class=\"dataframe\">\n",
       "  <thead>\n",
       "    <tr style=\"text-align: right;\">\n",
       "      <th></th>\n",
       "      <th>Model</th>\n",
       "      <th>MSE</th>\n",
       "      <th>MSLE</th>\n",
       "      <th>RMSE</th>\n",
       "      <th>RMSLE</th>\n",
       "    </tr>\n",
       "  </thead>\n",
       "  <tbody>\n",
       "    <tr>\n",
       "      <th>0</th>\n",
       "      <td>Random Forest</td>\n",
       "      <td>34091.571022</td>\n",
       "      <td>0.035977</td>\n",
       "      <td>184.64</td>\n",
       "      <td>0.18968</td>\n",
       "    </tr>\n",
       "  </tbody>\n",
       "</table>\n",
       "</div>"
      ],
      "text/plain": [
       "           Model           MSE      MSLE    RMSE    RMSLE\n",
       "0  Random Forest  34091.571022  0.035977  184.64  0.18968"
      ]
     },
     "execution_count": 72,
     "metadata": {},
     "output_type": "execute_result"
    }
   ],
   "source": [
    "mse = mean_squared_error(y_test, rfModel_pred)\n",
    "msle = mean_squared_log_error(y_test, rfModel_pred)\n",
    "rmse = np.sqrt(mse).round(2)\n",
    "rmsle = np.sqrt(msle).round(5)\n",
    "\n",
    "# Append the results to the DataFrame\n",
    "results = pd.DataFrame([['Random Forest', mse, msle, rmse, rmsle]],\n",
    "                             columns=['Model', 'MSE', 'MSLE', 'RMSE', 'RMSLE'])\n",
    "\n",
    "results"
   ]
  },
  {
   "cell_type": "markdown",
   "metadata": {},
   "source": [
    "### XG Boost"
   ]
  },
  {
   "cell_type": "code",
   "execution_count": 74,
   "metadata": {},
   "outputs": [],
   "source": [
    "# Initialize and fit the XGBoost model\n",
    "xgboost = xgb.XGBRegressor()\n",
    "xgbModel = xgboost.fit(X_train, y_train)\n",
    "\n",
    "# Make predictions on X_test\n",
    "xgbModel_pred = xgbModel.predict(X_test)\n"
   ]
  },
  {
   "cell_type": "code",
   "execution_count": 75,
   "metadata": {},
   "outputs": [
    {
     "data": {
      "text/html": [
       "<div>\n",
       "<style scoped>\n",
       "    .dataframe tbody tr th:only-of-type {\n",
       "        vertical-align: middle;\n",
       "    }\n",
       "\n",
       "    .dataframe tbody tr th {\n",
       "        vertical-align: top;\n",
       "    }\n",
       "\n",
       "    .dataframe thead th {\n",
       "        text-align: right;\n",
       "    }\n",
       "</style>\n",
       "<table border=\"1\" class=\"dataframe\">\n",
       "  <thead>\n",
       "    <tr style=\"text-align: right;\">\n",
       "      <th></th>\n",
       "      <th>Model</th>\n",
       "      <th>MSE</th>\n",
       "      <th>MSLE</th>\n",
       "      <th>RMSE</th>\n",
       "      <th>RMSLE</th>\n",
       "    </tr>\n",
       "  </thead>\n",
       "  <tbody>\n",
       "    <tr>\n",
       "      <th>0</th>\n",
       "      <td>Random Forest</td>\n",
       "      <td>34091.571022</td>\n",
       "      <td>0.035977</td>\n",
       "      <td>184.64</td>\n",
       "      <td>0.18968</td>\n",
       "    </tr>\n",
       "    <tr>\n",
       "      <th>1</th>\n",
       "      <td>XGBoost</td>\n",
       "      <td>26571.624549</td>\n",
       "      <td>0.035977</td>\n",
       "      <td>163.01</td>\n",
       "      <td>0.18968</td>\n",
       "    </tr>\n",
       "  </tbody>\n",
       "</table>\n",
       "</div>"
      ],
      "text/plain": [
       "           Model           MSE      MSLE    RMSE    RMSLE\n",
       "0  Random Forest  34091.571022  0.035977  184.64  0.18968\n",
       "1        XGBoost  26571.624549  0.035977  163.01  0.18968"
      ]
     },
     "execution_count": 75,
     "metadata": {},
     "output_type": "execute_result"
    }
   ],
   "source": [
    "# Append the results to the DataFrame\n",
    "mse = mean_squared_error(y_test, xgbModel_pred)\n",
    "# msle = mean_squared_log_error(y_test, xgbModel_pred)\n",
    "rmse = np.sqrt(mse).round(2)\n",
    "rmsle = np.sqrt(msle).round(5)\n",
    "\n",
    "model_results = pd.DataFrame([['XGBoost', mse, msle, rmse, rmsle]],\n",
    "                             columns=['Model', 'MSE', 'MSLE', 'RMSE', 'RMSLE'])\n",
    "results = pd.concat([results, model_results], ignore_index=True)\n",
    "results"
   ]
  },
  {
   "cell_type": "code",
   "execution_count": 76,
   "metadata": {},
   "outputs": [
    {
     "data": {
      "image/png": "[encoded data removed]",
      "text/plain": [
       "<Figure size 640x480 with 1 Axes>"
      ]
     },
     "metadata": {},
     "output_type": "display_data"
    },
    {
     "name": "stdout",
     "output_type": "stream",
     "text": [
      "Origin_lat: 1064.0\n",
      "Origin_lon: 923.0\n",
      "Destination_lat: 870.0\n",
      "Destination_lon: 839.0\n",
      "Trip_distance: 747.0\n",
      "total_secs: 530.0\n",
      "dewpoint_2m_temperature: 138.0\n",
      "mean_sea_level_pressure: 119.0\n",
      "maximum_2m_air_temperature: 110.0\n",
      "mean_2m_air_temperature: 95.0\n",
      "u_component_of_wind_10m: 92.0\n",
      "minimum_2m_air_temperature: 87.0\n",
      "v_component_of_wind_10m: 78.0\n",
      "total_precipitation: 64.0\n"
     ]
    }
   ],
   "source": [
    "# Using plot_importance function to visualize feature importance\n",
    "xgb.plot_importance(xgbModel)\n",
    "plt.show()\n",
    "\n",
    "# Alternatively, you can use the get_booster() method to get the booster object\n",
    "booster = xgbModel.get_booster()\n",
    "\n",
    "# Get the feature importance scores\n",
    "importance_scores = booster.get_score(importance_type='weight')\n",
    "\n",
    "# Sort the importance scores in descending order\n",
    "sorted_importance_scores = sorted(importance_scores.items(), key=lambda x: x[1], reverse=True)\n",
    "\n",
    "# Print the sorted importance scores\n",
    "for feature, score in sorted_importance_scores:\n",
    "    print(f\"{feature}: {score}\")"
   ]
  },
  {
   "cell_type": "markdown",
   "metadata": {},
   "source": [
    "### Model Evaluation"
   ]
  },
  {
   "cell_type": "code",
   "execution_count": 79,
   "metadata": {},
   "outputs": [],
   "source": [
    "# Split data into parts\n",
    "x_eval = eval_set.drop(['ETA'], axis = 1)\n",
    "y_eval = eval_set['ETA']"
   ]
  },
  {
   "cell_type": "code",
   "execution_count": 80,
   "metadata": {},
   "outputs": [
    {
     "data": {
      "text/plain": [
       "148.48"
      ]
     },
     "execution_count": 80,
     "metadata": {},
     "output_type": "execute_result"
    }
   ],
   "source": [
    "xgboost_pred_eval = xgbModel.predict(x_eval)\n",
    "mse = mean_squared_error(y_eval, xgboost_pred_eval)\n",
    "rmse = np.sqrt(mse).round(2)\n",
    "rmse"
   ]
  },
  {
   "cell_type": "markdown",
   "metadata": {},
   "source": [
    "Generate pickle file"
   ]
  },
  {
   "cell_type": "code",
   "execution_count": 83,
   "metadata": {},
   "outputs": [],
   "source": [
    "with open('../scaler.pkl', 'wb') as f:\n",
    "    pickle.dump(scaler, f)\n",
    "\n",
    "with open('../model.pkl', 'wb') as f:\n",
    "    pickle.dump(xgbModel, f)"
   ]
  }
 ],
 "metadata": {
  "kernelspec": {
   "display_name": "Python 3",
   "language": "python",
   "name": "python3"
  },
  "language_info": {
   "codemirror_mode": {
    "name": "ipython",
    "version": 3
   },
   "file_extension": ".py",
   "mimetype": "text/x-python",
   "name": "python",
   "nbconvert_exporter": "python",
   "pygments_lexer": "ipython3",
   "version": "3.8.0"
  }
 },
 "nbformat": 4,
 "nbformat_minor": 2
}
